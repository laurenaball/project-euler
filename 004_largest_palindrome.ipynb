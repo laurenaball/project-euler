{
 "cells": [
  {
   "cell_type": "code",
   "execution_count": 4,
   "id": "8dae51ec-3761-473b-8eac-ae766386afc6",
   "metadata": {},
   "outputs": [
    {
     "data": {
      "text/plain": [
       "906609"
      ]
     },
     "execution_count": 4,
     "metadata": {},
     "output_type": "execute_result"
    }
   ],
   "source": [
    "\n",
    "\n",
    "def is_palindrome(n):\n",
    "    return str(n) == str(n)[::-1] #turn n into string, compare to slice [start:stop:step]\n",
    "\n",
    "def largest_palindrome():\n",
    "    max_palindrome = 0 #needs to be inside the function\n",
    "    for i in range(999, 99, -1):\n",
    "        for j in range(999, 99, -1):\n",
    "            product = i * j\n",
    "            if product <= max_palindrome:\n",
    "                break\n",
    "            if is_palindrome(product):\n",
    "                max_palindrome = product\n",
    "    return max_palindrome\n",
    "\n",
    "largest_palindrome()"
   ]
  },
  {
   "cell_type": "code",
   "execution_count": null,
   "id": "652db307-6966-419e-ac7c-962bd2851539",
   "metadata": {},
   "outputs": [],
   "source": []
  }
 ],
 "metadata": {
  "kernelspec": {
   "display_name": "Python 3 (ipykernel)",
   "language": "python",
   "name": "python3"
  },
  "language_info": {
   "codemirror_mode": {
    "name": "ipython",
    "version": 3
   },
   "file_extension": ".py",
   "mimetype": "text/x-python",
   "name": "python",
   "nbconvert_exporter": "python",
   "pygments_lexer": "ipython3",
   "version": "3.12.4"
  }
 },
 "nbformat": 4,
 "nbformat_minor": 5
}
