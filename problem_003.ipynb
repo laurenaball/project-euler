{
 "cells": [
  {
   "cell_type": "code",
   "execution_count": 18,
   "id": "5cf412ac-2ade-4e32-8059-6956666309fd",
   "metadata": {},
   "outputs": [
    {
     "data": {
      "text/plain": [
       "1069501.0"
      ]
     },
     "execution_count": 18,
     "metadata": {},
     "output_type": "execute_result"
    }
   ],
   "source": [
    "#What is the largest prime factor of the number 600851475143?\n",
    "import math\n",
    "\n",
    "def find_prime_factors(n):\n",
    "    primeFactors = []\n",
    "\n",
    "    while n % 2 == 0: # Check for factors of 2\n",
    "        primeFactors.append(2)\n",
    "        n = n / 2\n",
    "\n",
    "    for i in range(3, int(math.sqrt(n)) + 1, 2):\n",
    "        while n % i == 0:\n",
    "            primeFactors.append(i)  # Add i to list of prime factors\n",
    "            n = n/i  # reduce n by i\n",
    "\n",
    "    if n > 1:\n",
    "        primeFactors.append(n)\n",
    "        \n",
    "    return primeFactors\n",
    "    \n",
    "\n",
    "def largest_prime_factor(n):\n",
    "    primeFactors = find_prime_factors(n)\n",
    "    return max(primeFactors)\n",
    "\n",
    "\n",
    "number = 12834012\n",
    "find_prime_factors(number)\n",
    "largest_prime_factor(number)\n"
   ]
  },
  {
   "cell_type": "code",
   "execution_count": 19,
   "id": "6382902c-b66f-468c-a994-1f17e2e42220",
   "metadata": {},
   "outputs": [
    {
     "data": {
      "text/plain": [
       "12.0"
      ]
     },
     "execution_count": 19,
     "metadata": {},
     "output_type": "execute_result"
    }
   ],
   "source": [
    "12834012/1069501"
   ]
  },
  {
   "cell_type": "code",
   "execution_count": null,
   "id": "42b7b7a3-5c87-4998-89a0-6b24483f91bb",
   "metadata": {},
   "outputs": [],
   "source": []
  }
 ],
 "metadata": {
  "kernelspec": {
   "display_name": "Python 3 (ipykernel)",
   "language": "python",
   "name": "python3"
  },
  "language_info": {
   "codemirror_mode": {
    "name": "ipython",
    "version": 3
   },
   "file_extension": ".py",
   "mimetype": "text/x-python",
   "name": "python",
   "nbconvert_exporter": "python",
   "pygments_lexer": "ipython3",
   "version": "3.12.4"
  }
 },
 "nbformat": 4,
 "nbformat_minor": 5
}
