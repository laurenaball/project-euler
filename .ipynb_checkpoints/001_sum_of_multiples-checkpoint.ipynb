{
 "cells": [
  {
   "cell_type": "markdown",
   "id": "6d7b0f24-41ca-4236-92bf-08a0c1eb4657",
   "metadata": {},
   "source": [
    "# Project Euler Problem 1: Multiples of 3 and 5\n",
    "If we list all the natural numbers below 10 that are multiples of 3 or 5, we get 3, 5, 6, and 9. The sum of these multiples is 23.\n",
    "**Task:** Find the sum of all the multiples of 3 or 5 below 1000."
   ]
  },
  {
   "cell_type": "code",
   "execution_count": 2,
   "id": "0e293dd4-173b-43f0-8d72-8d71a74ad829",
   "metadata": {},
   "outputs": [
    {
     "name": "stdout",
     "output_type": "stream",
     "text": [
      "233168\n"
     ]
    }
   ],
   "source": [
    "sum_multiples = 0\n",
    "for i in range(1,1000): \n",
    "    if i % 3 == 0 or i % 5 == 0:\n",
    "        sum_multiples += i\n",
    "print(sum_multiples)"
   ]
  },
  {
   "cell_type": "code",
   "execution_count": null,
   "id": "d46635b6-0401-433b-a5eb-955140d756a8",
   "metadata": {},
   "outputs": [],
   "source": []
  }
 ],
 "metadata": {
  "kernelspec": {
   "display_name": "Python 3 (ipykernel)",
   "language": "python",
   "name": "python3"
  },
  "language_info": {
   "codemirror_mode": {
    "name": "ipython",
    "version": 3
   },
   "file_extension": ".py",
   "mimetype": "text/x-python",
   "name": "python",
   "nbconvert_exporter": "python",
   "pygments_lexer": "ipython3",
   "version": "3.12.4"
  }
 },
 "nbformat": 4,
 "nbformat_minor": 5
}
